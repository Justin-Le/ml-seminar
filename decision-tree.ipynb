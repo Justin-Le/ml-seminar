{
 "cells": [
  {
   "cell_type": "code",
   "execution_count": 1,
   "metadata": {
    "collapsed": false
   },
   "outputs": [
    {
     "name": "stdout",
     "output_type": "stream",
     "text": [
      "Automatically created module for IPython interactive environment\n",
      "1.0\n"
     ]
    }
   ],
   "source": [
    "print(__doc__)\n",
    "\n",
    "import numpy as np\n",
    "import matplotlib.pyplot as plt\n",
    "\n",
    "from sklearn.datasets import load_iris\n",
    "from sklearn import tree\n",
    "from sklearn.tree import DecisionTreeClassifier\n",
    "\n",
    "# Load data\n",
    "iris = load_iris()\n",
    "\n",
    "# Keep only the first two classes \n",
    "# and first two features (first 100 examples)\n",
    "X = iris.data[:100, :2]\n",
    "y = iris.target[:100]\n",
    "n_classes = 2\n",
    "\n",
    "# Train\n",
    "clf = DecisionTreeClassifier()\n",
    "clf.fit(X, y)\n",
    "print clf.score(X, y)\n",
    "\n",
    "# Resolution and color-scheme of plot\n",
    "resolution = 0.02\n",
    "colors = \"bry\"\n",
    "\n",
    "# Plot colored regions\n",
    "x_min, x_max = X[:, 0].min() - 0.2, X[:, 0].max() + 0.2\n",
    "y_min, y_max = X[:, 1].min() - 0.2, X[:, 1].max() + 0.2\n",
    "xx, yy = np.meshgrid(np.arange(x_min, x_max, resolution),\n",
    "                     np.arange(y_min, y_max, resolution))\n",
    "\n",
    "Z = clf.predict(np.c_[xx.ravel(), yy.ravel()])\n",
    "Z = Z.reshape(xx.shape)\n",
    "\n",
    "plt.figure(figsize=(10, 20))\n",
    "cs = plt.contourf(xx, yy, Z, cmap=plt.cm.Paired)\n",
    "\n",
    "# Plot training data\n",
    "for i, color in zip(range(n_classes), colors):\n",
    "    idx = np.where(y == i)\n",
    "    plt.scatter(X[idx, 0], X[idx, 1], c=color, s=80,\n",
    "                label=iris.target_names[i], cmap=plt.cm.Paired)\n",
    "\n",
    "tree.export_graphviz(clf, out_file='tree.dot')   \n",
    "\n",
    "plt.show()"
   ]
  }
 ],
 "metadata": {
  "kernelspec": {
   "display_name": "Python 2",
   "language": "python",
   "name": "python2"
  },
  "language_info": {
   "codemirror_mode": {
    "name": "ipython",
    "version": 2
   },
   "file_extension": ".py",
   "mimetype": "text/x-python",
   "name": "python",
   "nbconvert_exporter": "python",
   "pygments_lexer": "ipython2",
   "version": "2.7.11"
  }
 },
 "nbformat": 4,
 "nbformat_minor": 0
}
