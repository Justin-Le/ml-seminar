{
 "cells": [
  {
   "cell_type": "code",
   "execution_count": null,
   "metadata": {
    "collapsed": true
   },
   "outputs": [],
   "source": [
    "\"\"\"\n",
    "Demonstrate the difference in predictive performance\n",
    "of linear and non-linear kernels in \n",
    "support vector machines for binary classification.\n",
    "\"\"\"\n",
    "\n",
    "import numpy as np\n",
    "import matplotlib.pyplot as plt\n",
    "from sklearn import datasets, svm\n",
    "\n",
    "X, Y = datasets.make_moons(n_samples=200, noise=0.2, random_state=1)\n",
    "X_test, Y_test = datasets.make_moons(n_samples=200, noise=0.2, random_state=2)\n",
    "\n",
    "# Subplot index\n",
    "subplot_num = 1\n",
    "\n",
    "plt.figure(figsize=(20.0, 10.0))\n",
    "\n",
    "for kernel in ('linear', 'rbf'):\n",
    "    # Instantiate the SVM\n",
    "    clf = svm.SVC(kernel=kernel)\n",
    "\n",
    "    # Fit the model\n",
    "    clf.fit(X, Y)\n",
    "\n",
    "    # Predict classes on testing data\n",
    "    score = 100.*clf.score(X_test, Y_test)\n",
    "\n",
    "    # Plot testing data\n",
    "    ax = plt.subplot(1, 2, subplot_num)\n",
    "    ax.scatter(X_test[:, 0], X_test[:, 1], c=Y_test, s=150, marker='o', zorder=10)\n",
    "\n",
    "    x_min = -2.8\n",
    "    x_max = 2.8\n",
    "    y_min = -2.8\n",
    "    y_max = 2.8\n",
    "\n",
    "    # Create contour map\n",
    "    xx, yy = np.mgrid[x_min:x_max:1000j, y_min:y_max:1000j]\n",
    "    Z = clf.decision_function(np.c_[xx.ravel(), yy.ravel()])\n",
    "    Z = Z.reshape(xx.shape)\n",
    "    ax.pcolormesh(xx, yy, Z > 0, cmap=plt.cm.Paired)\n",
    "    ax.contour(xx, yy, Z, colors=['k', 'k', 'k'], linestyles=['--', '-', '--'],\n",
    "                levels=[-.5, 0, .5])\n",
    "\n",
    "    ax.set_xlim(x_min, x_max)\n",
    "    ax.set_ylim(y_min, y_max)\n",
    "    ax.set_xticks(())\n",
    "    ax.set_yticks(())\n",
    "\n",
    "    # Print prediction accuracy on plot\n",
    "    ax.text(xx.min() + .3, yy.min() + .3, ('%.1f' % score) + '% accuracy', fontsize=25)\n",
    "\n",
    "    subplot_num = subplot_num + 1\n",
    "plt.savefig('kernels.png', bbox_inches='tight')\n",
    "plt.show()"
   ]
  }
 ],
 "metadata": {
  "kernelspec": {
   "display_name": "Python 2",
   "language": "python",
   "name": "python2"
  },
  "language_info": {
   "codemirror_mode": {
    "name": "ipython",
    "version": 2
   },
   "file_extension": ".py",
   "mimetype": "text/x-python",
   "name": "python",
   "nbconvert_exporter": "python",
   "pygments_lexer": "ipython2",
   "version": "2.7.11"
  }
 },
 "nbformat": 4,
 "nbformat_minor": 0
}
