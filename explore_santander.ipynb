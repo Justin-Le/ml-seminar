{
 "cells": [
  {
   "cell_type": "code",
   "execution_count": null,
   "metadata": {
    "collapsed": true
   },
   "outputs": [],
   "source": [
    "# coding: utf-8\n",
    "\n",
    "import pandas as pd\n",
    "import numpy as np\n",
    "import matplotlib.pyplot as plt\n",
    "import pdb\n",
    "\n",
    "# Import Seaborn for plotting\n",
    "# and ignore all warnings\n",
    "import warnings\n",
    "warnings.filterwarnings(\"ignore\")\n",
    "import seaborn as sns\n",
    "\n",
    "sns.set(style=\"white\", color_codes=True)\n",
    "\n",
    "# Load data as Pandas dataframes\n",
    "train = pd.read_csv(\"./train.csv\")\n",
    "test = pd.read_csv(\"./test.csv\")\n",
    "\n",
    "train.head()\n",
    "# Press shift+enter to execute this cell\n",
    "\n",
    "# Targets: customer satisfaction\n",
    "# 0 = happy, 1 = unhappy\n",
    "# Over 96% are happy \n",
    "df = pd.DataFrame(train.TARGET.value_counts())\n",
    "df['Percentage'] = 100*df['TARGET']/train.shape[0]\n",
    "df\n",
    "\n",
    "# var3: nationality of customer\n",
    "\n",
    "# Ten most common values\n",
    "train.var3.value_counts()[:10]\n",
    "\n",
    "# -999999 = unknown nationality\n",
    "train.loc[train.var3==-999999].shape\n",
    "\n",
    "# Replace -999999 with most common value (nationality = 2) \n",
    "train = train.replace(-999999, 2)\n",
    "train.loc[train.var3==-999999].shape\n",
    "\n",
    "\n",
    "# Create new feature: number of zeros in a row\n",
    "X = train.iloc[:, :-1]\n",
    "y = train.TARGET\n",
    "X['n0'] = (X==0).sum(axis=1)\n",
    "train['n0'] = X['n0']\n",
    "\n",
    "# num_var4: the number of products that a customer has purchased\n",
    "train.num_var4.hist(bins=100)\n",
    "plt.xlabel('Number of bank products')\n",
    "plt.ylabel('Number of customers in train')\n",
    "plt.title('Most customers have 1 product with the bank')\n",
    "plt.show()"
   ]
  },
  {
   "cell_type": "code",
   "execution_count": null,
   "metadata": {
    "collapsed": true
   },
   "outputs": [],
   "source": []
  }
 ],
 "metadata": {
  "kernelspec": {
   "display_name": "Python 2",
   "language": "python",
   "name": "python2"
  },
  "language_info": {
   "codemirror_mode": {
    "name": "ipython",
    "version": 2
   },
   "file_extension": ".py",
   "mimetype": "text/x-python",
   "name": "python",
   "nbconvert_exporter": "python",
   "pygments_lexer": "ipython2",
   "version": "2.7.12"
  }
 },
 "nbformat": 4,
 "nbformat_minor": 0
}
